{
  "nbformat": 4,
  "nbformat_minor": 0,
  "metadata": {
    "colab": {
      "name": "CNN_성의현.ipynb의 사본의 사본",
      "provenance": [],
      "collapsed_sections": [],
      "toc_visible": true,
      "include_colab_link": true
    },
    "kernelspec": {
      "name": "python3",
      "display_name": "Python 3"
    },
    "language_info": {
      "name": "python"
    },
    "accelerator": "GPU"
  },
  "cells": [
    {
      "cell_type": "markdown",
      "metadata": {
        "id": "view-in-github",
        "colab_type": "text"
      },
      "source": [
        "<a href=\"https://colab.research.google.com/github/Lipeya/EMNIST_classify/blob/main/CNN.ipynb\" target=\"_parent\"><img src=\"https://colab.research.google.com/assets/colab-badge.svg\" alt=\"Open In Colab\"/></a>"
      ]
    },
    {
      "cell_type": "code",
      "source": [
        "#google drive 연동\n",
        "from google.colab import drive\n",
        "drive.mount('/content/mnt')"
      ],
      "metadata": {
        "colab": {
          "base_uri": "https://localhost:8080/"
        },
        "id": "TGcFWRmNVuxx",
        "outputId": "9030330e-a826-4211-dee0-16effdbfb20c"
      },
      "execution_count": null,
      "outputs": [
        {
          "output_type": "stream",
          "name": "stdout",
          "text": [
            "Mounted at /content/mnt\n"
          ]
        }
      ]
    },
    {
      "cell_type": "code",
      "source": [
        "from keras.models import Sequential\n",
        "from keras.layers import Dense, Conv2D,Conv1D, MaxPooling2D, MaxPooling1D, Dropout, Flatten\n",
        "from keras import losses\n",
        "from keras import optimizers\n",
        "from keras.utils import np_utils\n",
        "import numpy as np\n",
        "import pandas as pd\n",
        "import csv\n",
        "import math\n",
        "\n",
        "class_array = ['0', '1', '2', '3', '4', '5', '6', '7', '8', '9', 'A', 'B', 'C', 'D', 'E', 'F', 'G', 'H', 'I', 'J', 'K', 'L', 'M', 'N', 'O', 'P', 'Q', 'R', 'S', 'T', 'U', 'V', 'W', 'X', 'Y', 'Z', 'a', 'b', 'd', 'e', 'f', 'g', 'h', 'n', 'q', 'r','t']\n",
        "#class_array = ['a', 'b','c', 'd', 'e', 'f', 'g', 'h', 'i','j','k','l','m','n','o','p', 'q', 'r','s', 't','u','v','w','x','y','z']\n",
        "class_dict = {'0':0, '1':1, '2':2, '3':3, '4':4, '5':5, '6':6, '7':7, '8':8, '9':9, 'A':10, 'B':11, 'C':12, 'D':13, 'E':14, 'F':15, 'G':16, 'H':17, 'I':18, 'J':19, 'K':20, 'L':21, 'M':22, 'N':23, 'O':24, 'P':25, 'Q':26, 'R':27, 'S':28, 'T':29, 'U':30, 'V':31, 'W':32, 'X':33, 'Y':34, 'Z':35, 'a':36, 'b':37, 'd':38, 'e':39, 'f':40, 'g':41, 'h':42, 'n':43, 'q':44, 'r':45,'t':46}\n",
        "class_size =len(class_array)\n",
        "print(class_size)"
      ],
      "metadata": {
        "id": "Sr2VMPjFVoB-",
        "colab": {
          "base_uri": "https://localhost:8080/"
        },
        "outputId": "0f2676da-233b-41fd-eb02-9cf1140b20af"
      },
      "execution_count": null,
      "outputs": [
        {
          "output_type": "stream",
          "name": "stdout",
          "text": [
            "47\n"
          ]
        }
      ]
    },
    {
      "cell_type": "code",
      "source": [
        "#EMNIST test파일 가져오기\n",
        "\n",
        "train_data_list = pd.read_csv(\"/content/mnt/MyDrive/project/emnist-balanced-train.csv\") #,chunksize = 100000)\n",
        "test_data_list = pd.read_csv(\"/content/mnt/MyDrive/project/emnist-balanced-test.csv\")\n",
        "#predict_data_list = pd.read_csv(\"/content/mnt/MyDrive/project/predict_char.csv\")\n",
        "predict_train = pd.read_csv(\"/content/mnt/MyDrive/project/encodedbalancetrain.csv\")\n",
        "predict_test = pd.read_csv(\"/content/mnt/MyDrive/project/encodedbalancetest.csv\")\n",
        "\n",
        "#파일을 적절하게 수정\n",
        "#td = list(test_data_list)\n",
        "\n",
        "\n",
        "# test_data_class = test_data_list.iloc[:,0]\n",
        "\n",
        "# test_data = test_data_list.iloc[:,1:]\n",
        "# display(test_data_class)\n",
        "# display(test_data)\n",
        "\n"
      ],
      "metadata": {
        "id": "lBKTcoNzL7de"
      },
      "execution_count": null,
      "outputs": []
    },
    {
      "cell_type": "code",
      "source": [
        "pdc = np.array(predict_train.iloc[:,1:])\n",
        "pdctest = np.array(predict_test.iloc[:,1:])"
      ],
      "metadata": {
        "id": "ciFAhyUFXb-2"
      },
      "execution_count": null,
      "outputs": []
    },
    {
      "cell_type": "code",
      "source": [
        "display(pdc)"
      ],
      "metadata": {
        "colab": {
          "base_uri": "https://localhost:8080/",
          "height": 259
        },
        "id": "lFCJ4DjafKCs",
        "outputId": "9df54afc-ccc2-480b-eb83-ab49a70c2916"
      },
      "execution_count": null,
      "outputs": [
        {
          "output_type": "display_data",
          "data": {
            "text/plain": [
              "array([[1.20353192e-07, 2.48738355e-03, 2.77083200e-05, ...,\n",
              "        2.18570378e-04, 1.37010366e-02, 1.52825058e-04],\n",
              "       [3.54118697e-07, 3.58922847e-09, 1.59197029e-08, ...,\n",
              "        1.80840783e-04, 3.33393784e-03, 3.19025712e-03],\n",
              "       [6.77668504e-06, 3.22239856e-07, 9.52586959e-07, ...,\n",
              "        1.21038454e-03, 4.52147302e-04, 9.95731563e-04],\n",
              "       ...,\n",
              "       [9.70034244e-15, 2.25028085e-13, 1.51046452e-13, ...,\n",
              "        1.09610301e-06, 5.91361016e-10, 2.88624306e-05],\n",
              "       [6.30219832e-09, 1.19965726e-08, 4.80549822e-10, ...,\n",
              "        2.09863429e-04, 3.45348008e-03, 2.91882432e-03],\n",
              "       [8.08449090e-03, 6.47734525e-03, 8.29083845e-03, ...,\n",
              "        7.52150081e-05, 5.75112528e-04, 1.57463233e-04]])"
            ]
          },
          "metadata": {}
        }
      ]
    },
    {
      "cell_type": "code",
      "source": [
        "# train_data =  np.array(td[0].iloc[:,1:])\n",
        "# #train_data = train_data.reshape(train_data.shape[0],28,28,1)\n",
        "# train_data_class = np.array(td[0].iloc[:,0])\n",
        "# train_data_class = np_utils.to_categorical(train_data_class, class_size)\n",
        "# display(train_data_class)\n",
        "\n",
        "train_data =  np.array(train_data_list.iloc[:,1:])\n",
        "train_data = train_data.reshape(train_data.shape[0],28,28,1)\n",
        "train_data_class = np.array(train_data_list.iloc[:,0])\n",
        "train_data_class = train_data_class - 1\n",
        "origin_tdc = train_data_class\n",
        "train_data_class = np_utils.to_categorical(train_data_class ,class_size)\n",
        "\n"
      ],
      "metadata": {
        "id": "bytuA11TgaeN"
      },
      "execution_count": null,
      "outputs": []
    },
    {
      "cell_type": "markdown",
      "source": [
        "# 모델\n"
      ],
      "metadata": {
        "id": "_zzleWZScplf"
      }
    },
    {
      "cell_type": "code",
      "source": [
        "#LSTM 모델\n",
        "\n",
        "import tensorflow as tf\n",
        "from tensorflow.keras.layers import Embedding, Input, TimeDistributed, Dropout, concatenate, Bidirectional, LSTM, Conv2D, Dense, MaxPooling2D, Flatten\n",
        "from tensorflow.keras import Model\n",
        "from tensorflow.keras.initializers import RandomUniform\n",
        "from tensorflow.keras.callbacks import EarlyStopping, ModelCheckpoint\n",
        "from tensorflow.keras.models import load_model\n",
        "\n",
        "\n",
        "\n",
        "embedding_dim = 128\n",
        "char_embedding_dim = 64\n",
        "dropout_ratio = 0.5\n",
        "hidden_units = 256\n",
        "num_filters = 30\n",
        "kernel_size = 3\n",
        "\n",
        "#다음 문자 예측\n",
        "char_inputs = Input(shape=(36,),dtype='float', name='char_predicts_input')\n",
        "predict = Dense(2*class_size, activation = 'relu')(char_inputs)\n",
        "predict = Dropout(0.2)(predict)\n",
        "#CNN\n",
        "cnn_inputs = Input(shape =(28,28,1), dtype = 'float', name ='CNN_input')\n",
        "cnn_layers = Conv2D(filters=32, kernel_size = (5,5), strides = (1,1), padding='same', activation = 'relu')(cnn_inputs)\n",
        "cnn_layers = MaxPooling2D(pool_size=(2,2), strides=(2,2))(cnn_layers)\n",
        "cnn_layers = Conv2D(filters=64, kernel_size=(3, 3), strides=(1, 1), activation='relu', padding='same')(cnn_layers)\n",
        "cnn_layers = MaxPooling2D(pool_size=(2, 2), strides=(2, 2))(cnn_layers)\n",
        "cnn_layers = Flatten()(cnn_layers)\n",
        "cnn_layers = Dropout(0.3)(cnn_layers)\n",
        "gap = Dense(2*class_size, activation = 'relu')(cnn_layers)\n",
        "gap = Dropout(0.2)(gap)\n",
        "\n",
        "\n",
        "# CNN결과와 다음 문자 예측 결과를 연결\n",
        "output = concatenate([gap, predict])\n",
        "output = Dense(2*class_size, activation = 'relu')(output)\n",
        "output = Dropout(0.2)(output)\n",
        "#Dense로 합산\n",
        "output = Dense(class_size, activation = 'softmax')(output)\n",
        "#model = Model(inputs= [cnn_inputs], outputs = [output])\n",
        "model = Model(inputs=[cnn_inputs, char_inputs], outputs=[output])\n",
        "model.compile(loss='categorical_crossentropy', optimizer='nadam',  metrics=['acc'])"
      ],
      "metadata": {
        "id": "oUNeEQlvYap3"
      },
      "execution_count": null,
      "outputs": []
    },
    {
      "cell_type": "code",
      "source": [
        "#LSTM X 모델\n",
        "model = Sequential()\n",
        "model.add(Conv2D(filters=32, kernel_size=(5, 5), strides=(1, 1), padding='same', activation='relu', input_shape=(28, 28, 1)))\n",
        "model.add(MaxPooling2D(pool_size=(2, 2), strides=(2, 2)))\n",
        "model.add(Conv2D(filters=64, kernel_size=(3, 3), strides=(1, 1), activation='relu', padding='same'))\n",
        "model.add(MaxPooling2D(pool_size=(2, 2), strides=(2, 2)))\n",
        "model.add(Dropout(0.3))\n",
        "model.add(Flatten())\n",
        "model.add(Dense(units=500, activation='relu'))\n",
        "model.add(Dropout(0.3))\n",
        "model.add(Dense(units=class_size, activation='softmax'))\n",
        "\n",
        "model.compile(loss='categorical_crossentropy', optimizer='adam', metrics=['accuracy'])"
      ],
      "metadata": {
        "id": "k29U5XyxvYW2"
      },
      "execution_count": null,
      "outputs": []
    },
    {
      "cell_type": "code",
      "source": [
        "model.summary()"
      ],
      "metadata": {
        "id": "K8qYWcR1gmL6",
        "colab": {
          "base_uri": "https://localhost:8080/"
        },
        "outputId": "c5ddc8bf-49bc-44eb-eddc-91f86d17ca82"
      },
      "execution_count": null,
      "outputs": [
        {
          "output_type": "stream",
          "name": "stdout",
          "text": [
            "Model: \"model_4\"\n",
            "__________________________________________________________________________________________________\n",
            " Layer (type)                   Output Shape         Param #     Connected to                     \n",
            "==================================================================================================\n",
            " CNN_input (InputLayer)         [(None, 28, 28, 1)]  0           []                               \n",
            "                                                                                                  \n",
            " conv2d_10 (Conv2D)             (None, 28, 28, 32)   832         ['CNN_input[0][0]']              \n",
            "                                                                                                  \n",
            " max_pooling2d_10 (MaxPooling2D  (None, 14, 14, 32)  0           ['conv2d_10[0][0]']              \n",
            " )                                                                                                \n",
            "                                                                                                  \n",
            " conv2d_11 (Conv2D)             (None, 14, 14, 64)   18496       ['max_pooling2d_10[0][0]']       \n",
            "                                                                                                  \n",
            " max_pooling2d_11 (MaxPooling2D  (None, 7, 7, 64)    0           ['conv2d_11[0][0]']              \n",
            " )                                                                                                \n",
            "                                                                                                  \n",
            " flatten_5 (Flatten)            (None, 3136)         0           ['max_pooling2d_11[0][0]']       \n",
            "                                                                                                  \n",
            " dropout_6 (Dropout)            (None, 3136)         0           ['flatten_5[0][0]']              \n",
            "                                                                                                  \n",
            " char_predicts_input (InputLaye  [(None, 10)]        0           []                               \n",
            " r)                                                                                               \n",
            "                                                                                                  \n",
            " concatenate_3 (Concatenate)    (None, 3146)         0           ['dropout_6[0][0]',              \n",
            "                                                                  'char_predicts_input[0][0]']    \n",
            "                                                                                                  \n",
            " dense_6 (Dense)                (None, 10)           31470       ['concatenate_3[0][0]']          \n",
            "                                                                                                  \n",
            "==================================================================================================\n",
            "Total params: 50,798\n",
            "Trainable params: 50,798\n",
            "Non-trainable params: 0\n",
            "__________________________________________________________________________________________________\n"
          ]
        }
      ]
    },
    {
      "cell_type": "code",
      "source": [
        "#CNN 학습\n",
        "history = model.fit(x=train_data,\n",
        "                    y=train_data_class,\n",
        "                    batch_size=128,\n",
        "                    epochs=5,\n",
        "                    verbose=1,\n",
        "                    validation_split = 0.2)"
      ],
      "metadata": {
        "id": "4lLNCKBtu-SY",
        "colab": {
          "base_uri": "https://localhost:8080/"
        },
        "outputId": "ba80850e-eb6f-4d81-e799-1c42c5ce0984"
      },
      "execution_count": null,
      "outputs": [
        {
          "output_type": "stream",
          "name": "stdout",
          "text": [
            "Epoch 1/5\n",
            "705/705 [==============================] - 17s 7ms/step - loss: 1.3513 - accuracy: 0.6923 - val_loss: 0.4566 - val_accuracy: 0.8412\n",
            "Epoch 2/5\n",
            "705/705 [==============================] - 6s 9ms/step - loss: 0.5317 - accuracy: 0.8217 - val_loss: 0.3915 - val_accuracy: 0.8582\n",
            "Epoch 3/5\n",
            "705/705 [==============================] - 5s 7ms/step - loss: 0.4560 - accuracy: 0.8435 - val_loss: 0.3813 - val_accuracy: 0.8651\n",
            "Epoch 4/5\n",
            "705/705 [==============================] - 5s 7ms/step - loss: 0.4183 - accuracy: 0.8533 - val_loss: 0.3597 - val_accuracy: 0.8679\n",
            "Epoch 5/5\n",
            "705/705 [==============================] - 5s 7ms/step - loss: 0.3870 - accuracy: 0.8617 - val_loss: 0.3596 - val_accuracy: 0.8647\n"
          ]
        }
      ]
    },
    {
      "cell_type": "code",
      "source": [
        "#CNN+LSTM 학습\n",
        "history = model.fit(x=[train_data,pdc],\n",
        "                    y=train_data_class,\n",
        "                    batch_size=128,\n",
        "                    epochs=5,\n",
        "                    verbose=1,\n",
        "                    validation_split = 0.2)"
      ],
      "metadata": {
        "colab": {
          "base_uri": "https://localhost:8080/"
        },
        "id": "kehjXy_v3kjz",
        "outputId": "59b51e5f-06b9-42b6-f80c-ea7803cf05df"
      },
      "execution_count": null,
      "outputs": [
        {
          "output_type": "stream",
          "name": "stdout",
          "text": [
            "Epoch 1/5\n",
            "705/705 [==============================] - 7s 8ms/step - loss: 1.6134 - acc: 0.5812 - val_loss: 0.3055 - val_acc: 0.9043\n",
            "Epoch 2/5\n",
            "705/705 [==============================] - 5s 8ms/step - loss: 0.4924 - acc: 0.8490 - val_loss: 0.2366 - val_acc: 0.9192\n",
            "Epoch 3/5\n",
            "705/705 [==============================] - 5s 8ms/step - loss: 0.3718 - acc: 0.8846 - val_loss: 0.2056 - val_acc: 0.9307\n",
            "Epoch 4/5\n",
            "705/705 [==============================] - 5s 8ms/step - loss: 0.3249 - acc: 0.8983 - val_loss: 0.1903 - val_acc: 0.9353\n",
            "Epoch 5/5\n",
            "705/705 [==============================] - 5s 8ms/step - loss: 0.2949 - acc: 0.9068 - val_loss: 0.1845 - val_acc: 0.9380\n"
          ]
        }
      ]
    },
    {
      "cell_type": "code",
      "source": [
        "test_data =  np.array(test_data_list.iloc[:,1:])\n",
        "test_data = test_data.reshape(test_data.shape[0],28,28,1)\n",
        "test_data_class = np.array(test_data_list.iloc[:,0]) -1\n",
        "origin_test = test_data_class\n",
        "test_data_class = np_utils.to_categorical(test_data_class, class_size)\n",
        "\n",
        "print(test_data_class)"
      ],
      "metadata": {
        "colab": {
          "base_uri": "https://localhost:8080/"
        },
        "id": "yvNTs9NIkFOv",
        "outputId": "48fb833b-4660-44ce-ec26-7ea47f45a8c2"
      },
      "execution_count": null,
      "outputs": [
        {
          "output_type": "stream",
          "name": "stdout",
          "text": [
            "[[0. 0. 0. ... 0. 0. 0.]\n",
            " [0. 0. 0. ... 0. 0. 0.]\n",
            " [0. 0. 0. ... 0. 0. 0.]\n",
            " ...\n",
            " [1. 0. 0. ... 0. 0. 0.]\n",
            " [0. 0. 0. ... 0. 0. 0.]\n",
            " [0. 0. 0. ... 0. 0. 0.]]\n"
          ]
        }
      ]
    },
    {
      "cell_type": "code",
      "source": [
        "#LSTM 학습 확인\n",
        "score = model.evaluate(x=[test_data, pdctest],y= test_data_class, verbose=0)\n",
        "print(\"loss : \" + str(score[0]))\n",
        "print(\"accuracy : \" + str(score[1]))"
      ],
      "metadata": {
        "id": "g8mq-kN9vAkY",
        "colab": {
          "base_uri": "https://localhost:8080/"
        },
        "outputId": "ab3c22c6-47e2-4231-ca01-0c48c7767541"
      },
      "execution_count": null,
      "outputs": [
        {
          "output_type": "stream",
          "name": "stdout",
          "text": [
            "loss : 0.20243506133556366\n",
            "accuracy : 0.9377626180648804\n"
          ]
        }
      ]
    },
    {
      "cell_type": "code",
      "source": [
        "#LSTM X 학습 확인\n",
        "score = model.evaluate(x=test_data,y= test_data_class, verbose=0)\n",
        "print(\"loss : \" + str(score[0]))\n",
        "print(\"accuracy : \" + str(score[1]))"
      ],
      "metadata": {
        "colab": {
          "base_uri": "https://localhost:8080/"
        },
        "id": "IycfTjljrKIU",
        "outputId": "c8a2037a-ed92-46b9-e909-4b2335fd3d1c"
      },
      "execution_count": null,
      "outputs": [
        {
          "output_type": "stream",
          "name": "stdout",
          "text": [
            "loss : 0.3748140037059784\n",
            "accuracy : 0.8674397468566895\n"
          ]
        }
      ]
    }
  ]
}