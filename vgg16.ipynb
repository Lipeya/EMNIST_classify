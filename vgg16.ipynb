{
  "nbformat": 4,
  "nbformat_minor": 0,
  "metadata": {
    "colab": {
      "name": "vgg16ver2.ipynb의 사본",
      "provenance": [],
      "collapsed_sections": [],
      "include_colab_link": true
    },
    "kernelspec": {
      "name": "python3",
      "display_name": "Python 3"
    },
    "language_info": {
      "name": "python"
    },
    "accelerator": "GPU"
  },
  "cells": [
    {
      "cell_type": "markdown",
      "metadata": {
        "id": "view-in-github",
        "colab_type": "text"
      },
      "source": [
        "<a href=\"https://colab.research.google.com/github/Lipeya/EMNIST_classify/blob/main/vgg16.ipynb\" target=\"_parent\"><img src=\"https://colab.research.google.com/assets/colab-badge.svg\" alt=\"Open In Colab\"/></a>"
      ]
    },
    {
      "cell_type": "code",
      "source": [
        "from google.colab import drive\n",
        "drive.mount('/content/mnt')"
      ],
      "metadata": {
        "colab": {
          "base_uri": "https://localhost:8080/"
        },
        "id": "ZWAUCeHb3T9I",
        "outputId": "1b4c98ed-8010-43ce-db7d-c42ccfa01902"
      },
      "execution_count": null,
      "outputs": [
        {
          "output_type": "stream",
          "name": "stdout",
          "text": [
            "Mounted at /content/mnt\n"
          ]
        }
      ]
    },
    {
      "cell_type": "code",
      "execution_count": null,
      "metadata": {
        "id": "9_A-eeLKy9y5",
        "outputId": "b91929e8-0926-45ca-b97f-57ec262f7e68",
        "colab": {
          "base_uri": "https://localhost:8080/"
        }
      },
      "outputs": [
        {
          "output_type": "stream",
          "name": "stdout",
          "text": [
            "26\n"
          ]
        }
      ],
      "source": [
        "from keras.models import Sequential\n",
        "from keras.layers import Dense, Conv2D,Conv1D, MaxPooling2D, MaxPooling1D, Dropout, Flatten\n",
        "from keras import losses\n",
        "from keras import optimizers\n",
        "from keras.utils import np_utils\n",
        "import numpy as np\n",
        "import pandas as pd\n",
        "import csv\n",
        "import math\n",
        "\n",
        "#class_array = ['0', '1', '2', '3', '4', '5', '6', '7', '8', '9']#, 'A', 'B', 'C', 'D', 'E', 'F', 'G', 'H', 'I', 'J', 'K', 'L', 'M', 'N', 'O', 'P', 'Q', 'R', 'S', 'T', 'U', 'V', 'W', 'X', 'Y', 'Z', 'a', 'b','c', 'd', 'e', 'f', 'g', 'h', 'i','j','k','l','m','n','o','p', 'q', 'r','s', 't','u','v','w','x','y','z']\n",
        "class_array = ['a', 'b','c', 'd', 'e', 'f', 'g', 'h', 'i','j','k','l','m','n','o','p', 'q', 'r','s', 't','u','v','w','x','y','z']\n",
        "class_dict = {'a':0, 'b':1,'c':2, 'd':3, 'e':4, 'f':5, 'g':6, 'h':7, 'i':8,'j':9,'k':10,'l':11,'m':12,'n':13,'o':14,'p':15, 'q':16, 'r':17,'s':18, 't':19,'u':20,'v':21,'w':22,'x':23,'y':24,'z':25}\n",
        "class_size =len(class_array)\n",
        "print(class_size)"
      ]
    },
    {
      "cell_type": "code",
      "source": [
        "import pandas as pd\n",
        "\n",
        "train_data_list = pd.read_csv(\"/content/mnt/MyDrive/project/emnist-letters-train.csv\") #,chunksize = 100000)\n",
        "test_data_list = pd.read_csv(\"/content/mnt/MyDrive/project/emnist-letters-test.csv\")\n",
        "#predict_data_list = pd.read_csv(\"/content/mnt/MyDrive/project/predict_char.csv\")\n",
        "predict_train = pd.read_csv(\"/content/mnt/MyDrive/project/encodedpdc.csv\")\n",
        "predict_test = pd.read_csv(\"/content/mnt/MyDrive/project/encodedpdctest.csv\")"
      ],
      "metadata": {
        "id": "7fucPFK-agcC"
      },
      "execution_count": null,
      "outputs": []
    },
    {
      "cell_type": "code",
      "source": [
        "pdc = np.array(predict_train.iloc[:,1:])\n",
        "pdctest = np.array(predict_test.iloc[:,1:])"
      ],
      "metadata": {
        "id": "S9EqZP5Xaz0v"
      },
      "execution_count": null,
      "outputs": []
    },
    {
      "cell_type": "code",
      "source": [
        "train_data =  np.array(train_data_list.iloc[:,1:])\n",
        "train_data = train_data.reshape(train_data.shape[0],28,28,1)\n",
        "train_data_class = np.array(train_data_list.iloc[:,0])\n",
        "train_data_class = train_data_class - 1\n",
        "origin_tdc = train_data_class\n",
        "train_data_class = np_utils.to_categorical(train_data_class ,26)"
      ],
      "metadata": {
        "id": "OKWcXI1EatNg"
      },
      "execution_count": null,
      "outputs": []
    },
    {
      "cell_type": "code",
      "source": [
        "test_data =  np.array(test_data_list.iloc[:,1:])\n",
        "test_data = test_data.reshape(test_data.shape[0],28,28,1)\n",
        "test_data_class = np.array(test_data_list.iloc[:,0]) -1\n",
        "origin_test = test_data_class\n",
        "test_data_class = np_utils.to_categorical(test_data_class, class_size)\n",
        "\n",
        "print(test_data_class)"
      ],
      "metadata": {
        "id": "aL4rnR7yavZw",
        "outputId": "db5205db-94fe-481f-ad34-418d5afb3b29",
        "colab": {
          "base_uri": "https://localhost:8080/"
        }
      },
      "execution_count": null,
      "outputs": [
        {
          "output_type": "stream",
          "name": "stdout",
          "text": [
            "[[1. 0. 0. ... 0. 0. 0.]\n",
            " [1. 0. 0. ... 0. 0. 0.]\n",
            " [1. 0. 0. ... 0. 0. 0.]\n",
            " ...\n",
            " [0. 0. 0. ... 0. 0. 0.]\n",
            " [0. 0. 0. ... 0. 0. 0.]\n",
            " [0. 0. 0. ... 0. 0. 0.]]\n"
          ]
        }
      ]
    },
    {
      "cell_type": "code",
      "source": [
        "traind = list(train_data)\n",
        "testd = list(test_data)"
      ],
      "metadata": {
        "id": "6RGNfb3diVJp"
      },
      "execution_count": null,
      "outputs": []
    },
    {
      "cell_type": "code",
      "source": [
        "# Resize the images 48*48 as required by VGG16\n",
        "\n",
        "from keras.preprocessing.image import img_to_array, array_to_img\n",
        "\n",
        "train_X = np.asarray([img_to_array(array_to_img(im, scale=False).resize((48,48))) for im in train_data])\n",
        "test_X = np.asarray([img_to_array(array_to_img(im, scale=False).resize((48,48))) for im in test_data])\n",
        "#train_x = preprocess_input(x)\n",
        "train_X.shape, test_X.shape"
      ],
      "metadata": {
        "id": "jOfv5KQSfTG4",
        "colab": {
          "base_uri": "https://localhost:8080/"
        },
        "outputId": "9abcef32-d41a-4fbc-9d59-a0c0003ec97e"
      },
      "execution_count": null,
      "outputs": [
        {
          "output_type": "execute_result",
          "data": {
            "text/plain": [
              "((88799, 48, 48, 1), (14799, 48, 48, 1))"
            ]
          },
          "metadata": {},
          "execution_count": 21
        }
      ]
    },
    {
      "cell_type": "code",
      "source": [
        "#LSTM X 모델\n",
        "from tensorflow.keras.applications import VGG16\n",
        "from keras.models import Model\n",
        "from keras.layers import Dense, Conv2D,Conv1D, MaxPooling2D, MaxPooling1D, Dropout, Flatten, Input, concatenate\n",
        "from keras import losses\n",
        "from keras import optimizers\n",
        "from keras.utils import np_utils\n",
        "import numpy as np\n",
        "import pandas as pd\n",
        "import csv\n",
        "import math\n",
        "\n",
        "\n",
        "#VGG16\n",
        "input_layer= Input(shape=(48,48,1))\n",
        "model_vgg16=VGG16(weights=None,input_tensor=input_layer,include_top=False)\n",
        "last_layer=model_vgg16.output # we are taking last layer of the model\n",
        "flatten=Flatten()(last_layer) \n",
        "\n",
        "\n",
        "output_layer=Dense(26,activation='softmax')(flatten)\n",
        "\n",
        "\n",
        "model= Model(inputs=input_layer,outputs=output_layer)\n",
        "model.compile(loss='categorical_crossentropy', optimizer='adam',metrics=['accuracy'])"
      ],
      "metadata": {
        "colab": {
          "base_uri": "https://localhost:8080/"
        },
        "id": "ee-3mPIpch07",
        "outputId": "a8587901-ad4f-4a86-8c02-45ef3f876e5a"
      },
      "execution_count": null,
      "outputs": [
        {
          "output_type": "stream",
          "name": "stdout",
          "text": [
            "Summary of Custom VGG16 model.\n",
            "\n",
            "1) We flatten the last layer and added 1 Dense layer and 1 output layer.\n",
            "\n",
            "Model: \"model_2\"\n",
            "_________________________________________________________________\n",
            " Layer (type)                Output Shape              Param #   \n",
            "=================================================================\n",
            " input_3 (InputLayer)        [(None, 48, 48, 1)]       0         \n",
            "                                                                 \n",
            " block1_conv1 (Conv2D)       (None, 48, 48, 64)        640       \n",
            "                                                                 \n",
            " block1_conv2 (Conv2D)       (None, 48, 48, 64)        36928     \n",
            "                                                                 \n",
            " block1_pool (MaxPooling2D)  (None, 24, 24, 64)        0         \n",
            "                                                                 \n",
            " block2_conv1 (Conv2D)       (None, 24, 24, 128)       73856     \n",
            "                                                                 \n",
            " block2_conv2 (Conv2D)       (None, 24, 24, 128)       147584    \n",
            "                                                                 \n",
            " block2_pool (MaxPooling2D)  (None, 12, 12, 128)       0         \n",
            "                                                                 \n",
            " block3_conv1 (Conv2D)       (None, 12, 12, 256)       295168    \n",
            "                                                                 \n",
            " block3_conv2 (Conv2D)       (None, 12, 12, 256)       590080    \n",
            "                                                                 \n",
            " block3_conv3 (Conv2D)       (None, 12, 12, 256)       590080    \n",
            "                                                                 \n",
            " block3_pool (MaxPooling2D)  (None, 6, 6, 256)         0         \n",
            "                                                                 \n",
            " block4_conv1 (Conv2D)       (None, 6, 6, 512)         1180160   \n",
            "                                                                 \n",
            " block4_conv2 (Conv2D)       (None, 6, 6, 512)         2359808   \n",
            "                                                                 \n",
            " block4_conv3 (Conv2D)       (None, 6, 6, 512)         2359808   \n",
            "                                                                 \n",
            " block4_pool (MaxPooling2D)  (None, 3, 3, 512)         0         \n",
            "                                                                 \n",
            " block5_conv1 (Conv2D)       (None, 3, 3, 512)         2359808   \n",
            "                                                                 \n",
            " block5_conv2 (Conv2D)       (None, 3, 3, 512)         2359808   \n",
            "                                                                 \n",
            " block5_conv3 (Conv2D)       (None, 3, 3, 512)         2359808   \n",
            "                                                                 \n",
            " block5_pool (MaxPooling2D)  (None, 1, 1, 512)         0         \n",
            "                                                                 \n",
            " flatten_3 (Flatten)         (None, 512)               0         \n",
            "                                                                 \n",
            " dense_15 (Dense)            (None, 26)                13338     \n",
            "                                                                 \n",
            "=================================================================\n",
            "Total params: 14,726,874\n",
            "Trainable params: 14,726,874\n",
            "Non-trainable params: 0\n",
            "_________________________________________________________________\n"
          ]
        }
      ]
    },
    {
      "cell_type": "code",
      "source": [
        "#LSTM O 모델\n",
        "from tensorflow.keras.applications import VGG16\n",
        "from keras.models import Model\n",
        "from keras.layers import Dense, Conv2D,Conv1D, MaxPooling2D, MaxPooling1D, Dropout, Flatten, Input, concatenate\n",
        "from keras import losses\n",
        "from keras import optimizers\n",
        "from keras.utils import np_utils\n",
        "import numpy as np\n",
        "import pandas as pd\n",
        "import csv\n",
        "import math\n",
        "\n",
        "#다음 문자 예측\n",
        "char_inputs = Input(shape=(class_size,),dtype='float', name='char_predicts_input')\n",
        "predict = Dense(52, activation = 'relu')(char_inputs)\n",
        "predict = Dropout(0.2)(predict)\n",
        "\n",
        "#VGG16\n",
        "input_layer= Input(shape=(48,48,1), name = 'img_input')\n",
        "model_vgg16=VGG16(weights=None,input_tensor=input_layer,include_top=False)\n",
        "last_layer = model_vgg16.output # we are taking last layer of the model\n",
        "last_layer = Flatten()(last_layer) \n",
        "last_layer = Dropout(0.3)(last_layer)\n",
        "gap = Dense(52, activation = 'relu')(last_layer)\n",
        "gap = Dropout(0.2)(gap)\n",
        "\n",
        "# CNN결과와 다음 문자 예측 결과를 연결\n",
        "output = concatenate([gap, predict])\n",
        "output = Dense(52, activation = 'relu')(output)\n",
        "output = Dropout(0.2)(output)\n",
        "\n",
        "#Dense로 합산\n",
        "output = Dense(class_size, activation = 'softmax')(output)\n",
        "\n",
        "\n",
        "model= Model(inputs=[input_layer,char_inputs] ,outputs=output)\n",
        "model.compile(loss='categorical_crossentropy', optimizer='adam',metrics=['accuracy'])"
      ],
      "metadata": {
        "id": "0ADz6Ksv1KGo"
      },
      "execution_count": null,
      "outputs": []
    },
    {
      "cell_type": "code",
      "source": [
        "model.summary()"
      ],
      "metadata": {
        "colab": {
          "base_uri": "https://localhost:8080/",
          "height": 281
        },
        "id": "RcXuy9ivclel",
        "outputId": "90fdab1a-1823-420f-abb7-9b2ec8e827c5"
      },
      "execution_count": null,
      "outputs": [
        {
          "output_type": "stream",
          "name": "stdout",
          "text": [
            "We are making all the layers intrainable except the last layer. \n",
            "\n"
          ]
        },
        {
          "output_type": "error",
          "ename": "NameError",
          "evalue": "ignored",
          "traceback": [
            "\u001b[0;31m---------------------------------------------------------------------------\u001b[0m",
            "\u001b[0;31mNameError\u001b[0m                                 Traceback (most recent call last)",
            "\u001b[0;32m<ipython-input-36-b1b6f8d93935>\u001b[0m in \u001b[0;36m<module>\u001b[0;34m()\u001b[0m\n\u001b[1;32m      4\u001b[0m \u001b[0;31m# we are making all the layers intrainable except the last layer\u001b[0m\u001b[0;34m\u001b[0m\u001b[0;34m\u001b[0m\u001b[0;34m\u001b[0m\u001b[0m\n\u001b[1;32m      5\u001b[0m \u001b[0mprint\u001b[0m\u001b[0;34m(\u001b[0m\u001b[0;34m\"We are making all the layers intrainable except the last layer. \\n\"\u001b[0m\u001b[0;34m)\u001b[0m\u001b[0;34m\u001b[0m\u001b[0;34m\u001b[0m\u001b[0m\n\u001b[0;32m----> 6\u001b[0;31m \u001b[0;32mfor\u001b[0m \u001b[0mlayer\u001b[0m \u001b[0;32min\u001b[0m \u001b[0mmodel\u001b[0m\u001b[0;34m.\u001b[0m\u001b[0mlayers\u001b[0m\u001b[0;34m[\u001b[0m\u001b[0;34m:\u001b[0m\u001b[0;34m-\u001b[0m\u001b[0;36m1\u001b[0m\u001b[0;34m]\u001b[0m\u001b[0;34m:\u001b[0m\u001b[0;34m\u001b[0m\u001b[0;34m\u001b[0m\u001b[0m\n\u001b[0m\u001b[1;32m      7\u001b[0m     \u001b[0mlayer\u001b[0m\u001b[0;34m.\u001b[0m\u001b[0mtrainable\u001b[0m\u001b[0;34m=\u001b[0m\u001b[0;32mFalse\u001b[0m\u001b[0;34m\u001b[0m\u001b[0;34m\u001b[0m\u001b[0m\n\u001b[1;32m      8\u001b[0m \u001b[0mmodel\u001b[0m\u001b[0;34m.\u001b[0m\u001b[0msummary\u001b[0m\u001b[0;34m(\u001b[0m\u001b[0;34m)\u001b[0m\u001b[0;34m\u001b[0m\u001b[0;34m\u001b[0m\u001b[0m\n",
            "\u001b[0;31mNameError\u001b[0m: name 'model' is not defined"
          ]
        }
      ]
    },
    {
      "cell_type": "code",
      "source": [
        "#LSTM X 모델\n",
        "history = model.fit(train_X,train_data_class,epochs=5,batch_size=128,verbose=1,validation_split=0.2)"
      ],
      "metadata": {
        "colab": {
          "base_uri": "https://localhost:8080/"
        },
        "id": "jZtua2ZDdLjR",
        "outputId": "75e5788d-3ab3-460f-c43d-828cce62ead2"
      },
      "execution_count": null,
      "outputs": [
        {
          "output_type": "stream",
          "name": "stdout",
          "text": [
            "Epoch 1/5\n",
            "555/555 [==============================] - 164s 295ms/step - loss: 0.1145 - accuracy: 0.9569 - val_loss: 0.2068 - val_accuracy: 0.9405\n",
            "Epoch 2/5\n",
            "555/555 [==============================] - 163s 294ms/step - loss: 0.1067 - accuracy: 0.9593 - val_loss: 0.1942 - val_accuracy: 0.9435\n",
            "Epoch 3/5\n",
            "555/555 [==============================] - 163s 294ms/step - loss: 0.1046 - accuracy: 0.9606 - val_loss: 0.2172 - val_accuracy: 0.9382\n",
            "Epoch 4/5\n",
            "555/555 [==============================] - 163s 294ms/step - loss: 0.1039 - accuracy: 0.9606 - val_loss: 0.2214 - val_accuracy: 0.9332\n",
            "Epoch 5/5\n",
            "555/555 [==============================] - 172s 310ms/step - loss: 0.0938 - accuracy: 0.9640 - val_loss: 0.2160 - val_accuracy: 0.9419\n"
          ]
        }
      ]
    },
    {
      "cell_type": "code",
      "source": [
        "#LSTM O 모델\n",
        "history = model.fit([train_X,pdc],train_data_class,epochs=5,batch_size=128,verbose=1,validation_split=0.2)"
      ],
      "metadata": {
        "colab": {
          "base_uri": "https://localhost:8080/"
        },
        "id": "gudTRkYi13MP",
        "outputId": "10204038-b5c0-444e-abf7-41deec944c35"
      },
      "execution_count": null,
      "outputs": [
        {
          "output_type": "stream",
          "name": "stdout",
          "text": [
            "Epoch 1/5\n",
            "555/555 [==============================] - 164s 296ms/step - loss: 1.7254 - accuracy: 0.5489 - val_loss: 0.3334 - val_accuracy: 0.9138\n",
            "Epoch 2/5\n",
            "555/555 [==============================] - 164s 296ms/step - loss: 0.3145 - accuracy: 0.9175 - val_loss: 0.1927 - val_accuracy: 0.9505\n",
            "Epoch 3/5\n",
            "555/555 [==============================] - 164s 296ms/step - loss: 0.2041 - accuracy: 0.9460 - val_loss: 0.1728 - val_accuracy: 0.9575\n",
            "Epoch 4/5\n",
            "555/555 [==============================] - 164s 296ms/step - loss: 0.1718 - accuracy: 0.9543 - val_loss: 0.1304 - val_accuracy: 0.9672\n",
            "Epoch 5/5\n",
            "555/555 [==============================] - 164s 296ms/step - loss: 0.1478 - accuracy: 0.9602 - val_loss: 0.1413 - val_accuracy: 0.9660\n"
          ]
        }
      ]
    },
    {
      "cell_type": "code",
      "source": [
        "#LSTM X 모델\n",
        "import matplotlib.pyplot as plt # plotting\n",
        "# plot the loss and accuracy\n",
        "\n",
        "acc = history.history['accuracy']\n",
        "val_acc = history.history['val_accuracy']\n",
        "loss = history.history['loss']\n",
        "val_loss = history.history['val_loss']\n",
        "epochs = range(1, len(acc) + 1)\n",
        "\n",
        "plt.title('Training and validation accuracy')\n",
        "plt.plot(epochs, acc, 'red', label='Training acc')\n",
        "plt.plot(epochs, val_acc, 'blue', label='Validation acc')\n",
        "plt.legend()\n",
        "\n",
        "plt.figure()\n",
        "plt.title('Training and validation loss')\n",
        "plt.plot(epochs, loss, 'red', label='Training loss')\n",
        "plt.plot(epochs, val_loss, 'blue', label='Validation loss')\n",
        "\n",
        "plt.legend()\n",
        "\n",
        "plt.show()"
      ],
      "metadata": {
        "colab": {
          "base_uri": "https://localhost:8080/",
          "height": 545
        },
        "id": "ucw_tAnukoAv",
        "outputId": "1a51e6a2-35cc-4c08-adbc-82d5c22df1a6"
      },
      "execution_count": null,
      "outputs": [
        {
          "output_type": "display_data",
          "data": {
            "text/plain": [
              "<Figure size 432x288 with 1 Axes>"
            ],
            "image/png": "[encoded data removed]"
          },
          "metadata": {
            "needs_background": "light"
          }
        },
        {
          "output_type": "display_data",
          "data": {
            "text/plain": [
              "<Figure size 432x288 with 1 Axes>"
            ],
            "image/png": "[encoded data removed]"
          },
          "metadata": {
            "needs_background": "light"
          }
        }
      ]
    },
    {
      "cell_type": "code",
      "source": [
        "#LSTM O 모델\n",
        "import matplotlib.pyplot as plt # plotting\n",
        "# plot the loss and accuracy\n",
        "\n",
        "acc = history.history['accuracy']\n",
        "val_acc = history.history['val_accuracy']\n",
        "loss = history.history['loss']\n",
        "val_loss = history.history['val_loss']\n",
        "epochs = range(1, len(acc) + 1)\n",
        "\n",
        "plt.title('Training and validation accuracy')\n",
        "plt.plot(epochs, acc, 'red', label='Training acc')\n",
        "plt.plot(epochs, val_acc, 'blue', label='Validation acc')\n",
        "plt.legend()\n",
        "\n",
        "plt.figure()\n",
        "plt.title('Training and validation loss')\n",
        "plt.plot(epochs, loss, 'red', label='Training loss')\n",
        "plt.plot(epochs, val_loss, 'blue', label='Validation loss')\n",
        "\n",
        "plt.legend()\n",
        "\n",
        "plt.show()"
      ],
      "metadata": {
        "colab": {
          "base_uri": "https://localhost:8080/",
          "height": 545
        },
        "id": "TyQE8Xxw2EcP",
        "outputId": "e52f10e5-d0ca-4c47-afed-617cf0df76f1"
      },
      "execution_count": null,
      "outputs": [
        {
          "output_type": "display_data",
          "data": {
            "text/plain": [
              "<Figure size 432x288 with 1 Axes>"
            ],
            "image/png": "[encoded data removed]"
          },
          "metadata": {
            "needs_background": "light"
          }
        },
        {
          "output_type": "display_data",
          "data": {
            "text/plain": [
              "<Figure size 432x288 with 1 Axes>"
            ],
            "image/png": "[encoded data removed]"
          },
          "metadata": {
            "needs_background": "light"
          }
        }
      ]
    },
    {
      "cell_type": "code",
      "source": [
        "#LSTM X 학습 확인\n",
        "score = model.evaluate(x=test_X,y= test_data_class, verbose=0)\n",
        "print(\"loss : \" + str(score[0]))\n",
        "print(\"accuracy : \" + str(score[1]))"
      ],
      "metadata": {
        "colab": {
          "base_uri": "https://localhost:8080/"
        },
        "id": "NlO96E8NkoFP",
        "outputId": "c18bfa30-3030-47ca-e16f-e3e831edde8c"
      },
      "execution_count": null,
      "outputs": [
        {
          "output_type": "stream",
          "name": "stdout",
          "text": [
            "loss : 0.24413825571537018\n",
            "accuracy : 0.927359938621521\n"
          ]
        }
      ]
    },
    {
      "cell_type": "code",
      "source": [
        "#LSTM O 학습 확인\n",
        "score = model.evaluate(x=[test_X, pdctest],y= test_data_class, verbose=0)\n",
        "print(\"loss : \" + str(score[0]))\n",
        "print(\"accuracy : \" + str(score[1]))"
      ],
      "metadata": {
        "id": "1JuWlMt3koJQ",
        "colab": {
          "base_uri": "https://localhost:8080/"
        },
        "outputId": "e1e9b5c3-14b2-41af-bc1e-1d42c4693a1c"
      },
      "execution_count": null,
      "outputs": [
        {
          "output_type": "stream",
          "name": "stdout",
          "text": [
            "loss : 0.14917485415935516\n",
            "accuracy : 0.9604703187942505\n"
          ]
        }
      ]
    }
  ]
}